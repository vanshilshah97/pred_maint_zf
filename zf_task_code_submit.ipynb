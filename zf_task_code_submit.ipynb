{
 "cells": [
  {
   "cell_type": "code",
   "execution_count": null,
   "metadata": {},
   "outputs": [],
   "source": []
  },
  {
   "cell_type": "code",
   "execution_count": 1,
   "metadata": {},
   "outputs": [],
   "source": [
    "import pyspark\n",
    "from pyspark.sql import SQLContext\n",
    "from pyspark.sql.functions import hour, when, col, date_format, to_timestamp\n",
    "from pyspark.sql.types import DateType\n",
    "import datetime\n"
   ]
  },
  {
   "cell_type": "code",
   "execution_count": 2,
   "metadata": {},
   "outputs": [
    {
     "name": "stderr",
     "output_type": "stream",
     "text": [
      "/home/vanshil/rrc_env/lib/python3.5/site-packages/pyspark/context.py:225: DeprecationWarning: Support for Python 2 and Python 3 prior to version 3.6 is deprecated as of Spark 3.0. See also the plan for dropping Python 2 support at https://spark.apache.org/news/plan-for-dropping-python-2-support.html.\n",
      "  DeprecationWarning)\n"
     ]
    }
   ],
   "source": [
    "sc = pyspark.SparkContext(appName=\"zf_task\")\n",
    "sqlContext = SQLContext(sc)"
   ]
  },
  {
   "cell_type": "code",
   "execution_count": 3,
   "metadata": {},
   "outputs": [],
   "source": [
    "df_telemetry = sqlContext.read.option(\"header\",True).csv(\"/home/vanshil/Desktop/zf_task/telemetry.csv\")\n",
    "df_failures = sqlContext.read.option(\"header\",True).csv(\"/home/vanshil/Desktop/zf_task/failures.csv\")\n",
    "df_machines = sqlContext.read.option(\"header\",True).csv(\"/home/vanshil/Desktop/zf_task/machines.csv\")"
   ]
  },
  {
   "cell_type": "markdown",
   "metadata": {},
   "source": [
    "##### For cleaning telemetry data for cleaning datapoints that are greater than 1st Jan, 2016 00:00:00"
   ]
  },
  {
   "cell_type": "code",
   "execution_count": 4,
   "metadata": {},
   "outputs": [],
   "source": [
    "\n",
    "df_telemetry_temp = df_telemetry.withColumn(\"datetime\",col(\"datetime\").cast(\"timestamp\"))\n",
    "y = datetime.datetime(2016,1,1)\n",
    "df_telemetry_cleaned = df_telemetry_temp.filter(df_telemetry_temp.datetime<y)"
   ]
  },
  {
   "cell_type": "code",
   "execution_count": 5,
   "metadata": {},
   "outputs": [
    {
     "name": "stdout",
     "output_type": "stream",
     "text": [
      "+-------------------+---------+----------------+----------------+----------------+----------------+\n",
      "|           datetime|machineID|            volt|          rotate|        pressure|       vibration|\n",
      "+-------------------+---------+----------------+----------------+----------------+----------------+\n",
      "|2015-01-01 06:00:00|        1|151.919998705647|530.813577555042|101.788175260076|49.6040134898504|\n",
      "|2015-01-01 07:00:00|        1|174.522001096471|535.523532319384|113.256009499254|41.5159054753218|\n",
      "|2015-01-01 08:00:00|        1|146.912821646066|456.080746005808|107.786964633461|42.0996936545816|\n",
      "|2015-01-01 09:00:00|        1|179.530560852404|503.469990485512|108.283817221771|37.8477274946112|\n",
      "|2015-01-01 10:00:00|        1|180.544276621327|371.600611295334| 107.55330679883|41.4678800376109|\n",
      "|2015-01-01 11:00:00|        1| 141.41175703074|530.857266087542|87.6140012779218|44.9858461978707|\n",
      "|2015-01-01 12:00:00|        1|184.083821743344|  450.2275288129|87.6973797069792|30.8312627133489|\n",
      "|2015-01-01 13:00:00|        1|166.632618417563|486.466837788584|108.067733800301|50.3800539242367|\n",
      "|2015-01-01 14:00:00|        1|159.892748369181|488.968697483274|102.131884360457| 43.661296546187|\n",
      "|2015-01-01 15:00:00|        1|176.686811672085|508.202759433056|90.9511892146129| 43.039695633682|\n",
      "|2015-01-01 16:00:00|        1|189.209256603479|489.650433185391|105.406282240959|41.8229676803595|\n",
      "|2015-01-01 17:00:00|        1|193.476952013768|321.534160131992|95.1188089930587|39.0747709872891|\n",
      "|2015-01-01 18:00:00|        1|151.991809457158|489.971433231995| 91.645093837529|43.9820714981838|\n",
      "|2015-01-01 19:00:00|        1| 163.43457550439|472.272836552649|94.3160180122348| 48.480696556788|\n",
      "|2015-01-01 20:00:00|        1|172.195722227367|450.546223605271|104.781534129456|41.5403688340559|\n",
      "|2015-01-01 21:00:00|        1|170.990286133308|415.250945006269|94.0075597760703|43.8887796832372|\n",
      "|2015-01-01 22:00:00|        1|163.324459770552|449.927688676034|95.6326140356293|44.3332541694711|\n",
      "|2015-01-01 23:00:00|        1|134.868314203377|411.819888675909|   112.059588899|46.1775320206043|\n",
      "|2015-01-02 00:00:00|        1|165.824264487382|439.806091074295| 105.45927935032|45.9781263440143|\n",
      "|2015-01-02 01:00:00|        1|152.272945514827|459.941102771631|111.493493653732|44.4292645656797|\n",
      "+-------------------+---------+----------------+----------------+----------------+----------------+\n",
      "only showing top 20 rows\n",
      "\n"
     ]
    }
   ],
   "source": [
    "df_telemetry_cleaned.show()"
   ]
  },
  {
   "cell_type": "code",
   "execution_count": 4,
   "metadata": {},
   "outputs": [
    {
     "name": "stdout",
     "output_type": "stream",
     "text": [
      "+-------------------+---------+-------+\n",
      "|           datetime|machineID|failure|\n",
      "+-------------------+---------+-------+\n",
      "|2015-02-04 06:00:00|        1|  comp3|\n",
      "|2015-03-21 06:00:00|        1|  comp1|\n",
      "|2015-04-05 06:00:00|        1|  comp4|\n",
      "|2015-05-05 06:00:00|        1|  comp3|\n",
      "|2015-05-20 06:00:00|        1|  comp2|\n",
      "|2015-06-04 06:00:00|        1|  comp4|\n",
      "|2015-06-19 06:00:00|        1|  comp2|\n",
      "|2015-08-03 06:00:00|        1|  comp3|\n",
      "|2015-08-03 06:00:00|        1|  comp4|\n",
      "|2015-11-01 06:00:00|        1|  comp4|\n",
      "|2015-11-16 06:00:00|        1|  comp1|\n",
      "|2015-12-16 06:00:00|        1|  comp4|\n",
      "|2015-01-02 03:00:00|        2|  comp2|\n",
      "|2015-02-01 06:00:00|        2|  comp2|\n",
      "|2015-04-02 06:00:00|        2|  comp2|\n",
      "|2015-04-17 06:00:00|        2|  comp1|\n",
      "|2015-06-01 06:00:00|        2|  comp2|\n",
      "|2015-08-15 06:00:00|        2|  comp1|\n",
      "|2015-09-29 06:00:00|        2|  comp1|\n",
      "|2015-01-07 06:00:00|        3|  comp1|\n",
      "+-------------------+---------+-------+\n",
      "only showing top 20 rows\n",
      "\n"
     ]
    }
   ],
   "source": [
    "df_failures.show()"
   ]
  },
  {
   "cell_type": "code",
   "execution_count": 5,
   "metadata": {},
   "outputs": [
    {
     "name": "stdout",
     "output_type": "stream",
     "text": [
      "+---------+------+---+\n",
      "|machineID| model|age|\n",
      "+---------+------+---+\n",
      "|        1|model2| 18|\n",
      "|        2|model4|  7|\n",
      "|        3|model3|  8|\n",
      "|        4|model3|  7|\n",
      "|        5|model2|  2|\n",
      "|        6|model3|  7|\n",
      "|        7|model4| 20|\n",
      "|        8|model3| 16|\n",
      "|        9|model1|  7|\n",
      "|       10|model1| 10|\n",
      "|       11|model4|  6|\n",
      "|       12|model2|  9|\n",
      "|       13|model3| 15|\n",
      "|       14|model4|  1|\n",
      "|       15|model4| 14|\n",
      "|       16|model3|  3|\n",
      "|       17|model4| 14|\n",
      "|       18|model4| 15|\n",
      "|       19|model4| 17|\n",
      "|       20|model2| 16|\n",
      "+---------+------+---+\n",
      "only showing top 20 rows\n",
      "\n"
     ]
    }
   ],
   "source": [
    "df_machines.show()"
   ]
  },
  {
   "cell_type": "markdown",
   "metadata": {},
   "source": [
    "#### Failure in individiual components is assumed as failure in a complete machine.\n",
    "#### Occurence of a failure is considered as unhealthy. Furhtermore for the model to predict that a failure is going to happen, a label of failure is also given to 5 windows before a failure has happened for a particular machineID."
   ]
  },
  {
   "cell_type": "markdown",
   "metadata": {},
   "source": [
    "#### Cleaning failures dataframe for duplicates for further outer join \n"
   ]
  },
  {
   "cell_type": "code",
   "execution_count": 6,
   "metadata": {},
   "outputs": [],
   "source": [
    "\n",
    "\n",
    "df_failures_cleaned = df_failures.dropDuplicates(subset=['datetime','machineID'])"
   ]
  },
  {
   "cell_type": "code",
   "execution_count": 7,
   "metadata": {},
   "outputs": [],
   "source": [
    "df_telemetry_cleaned = df_telemetry_cleaned.join(df_failures_cleaned, on=['datetime', 'machineID'], how='outer')"
   ]
  },
  {
   "cell_type": "code",
   "execution_count": 8,
   "metadata": {},
   "outputs": [
    {
     "name": "stdout",
     "output_type": "stream",
     "text": [
      "+-------------------+---------+----------------+----------------+----------------+----------------+-------+\n",
      "|           datetime|machineID|            volt|          rotate|        pressure|       vibration|failure|\n",
      "+-------------------+---------+----------------+----------------+----------------+----------------+-------+\n",
      "|2015-01-01 06:00:00|      476|212.367979092572| 319.66678839637|110.670611578006|36.5460214527218|   null|\n",
      "|2015-01-01 06:00:00|      760|184.542329839681|442.486992935241| 96.289440949018|33.4353596105716|   null|\n",
      "|2015-01-01 06:00:00|      922|157.548916779885| 454.03150909256|103.659771993094|36.4184136615947|   null|\n",
      "|2015-01-01 07:00:00|      122|148.871723297714|346.941338239024|100.072716634435|47.0817014997421|   null|\n",
      "|2015-01-01 07:00:00|      366|192.210850412861|427.670080625141|107.107089384777|48.3824271272506|   null|\n",
      "|2015-01-01 07:00:00|      430|155.649055939255|432.857553152784|111.851293039026|34.3856330003791|   null|\n",
      "|2015-01-01 07:00:00|      469|164.047696096638|423.622375141035|97.7018457050908|39.7859471960984|   null|\n",
      "|2015-01-01 07:00:00|      536|163.659405525254|480.764950684233|134.150732189282|45.4287533271876|   null|\n",
      "|2015-01-01 07:00:00|      546|167.313646876737|527.572113904313|90.2368302166178|48.1836119286585|   null|\n",
      "|2015-01-01 07:00:00|       59|177.044561849178| 394.92421838546|81.5304159921421|40.3152050364634|   null|\n",
      "|2015-01-01 07:00:00|      732|183.882461521716|453.182909678657|108.590902639959|29.8405973458043|   null|\n",
      "|2015-01-01 07:00:00|      804|185.456487631126|432.863225054398|108.770564017851|36.4385751143645|   null|\n",
      "|2015-01-01 08:00:00|      192|183.853347425135|481.686357282368|124.044456476541|37.0301946312401|   null|\n",
      "|2015-01-01 08:00:00|      327|154.795656490445|442.896357361354|93.5476614415815|34.9445764010165|   null|\n",
      "|2015-01-01 08:00:00|      343|163.728567155684|426.541696477286|91.2793369038646|32.2712029967309|   null|\n",
      "|2015-01-01 08:00:00|      505|185.906518274711|442.887745165248|101.865530516767| 31.392385387271|   null|\n",
      "|2015-01-01 08:00:00|      886|181.861372625594|403.064138493734| 93.375792800348|40.2327065711983|   null|\n",
      "|2015-01-01 09:00:00|      284|169.169415137978|539.248868006414|98.5544213318867|37.2802725337148|   null|\n",
      "|2015-01-01 09:00:00|      300|155.909620938263|356.209159962606| 85.361691082508| 38.019055109512|   null|\n",
      "|2015-01-01 09:00:00|      355|162.516028864677| 378.42556637607|99.8020279898712|39.7394061827538|   null|\n",
      "+-------------------+---------+----------------+----------------+----------------+----------------+-------+\n",
      "only showing top 20 rows\n",
      "\n"
     ]
    }
   ],
   "source": [
    "df_telemetry_cleaned.show()"
   ]
  },
  {
   "cell_type": "code",
   "execution_count": 9,
   "metadata": {},
   "outputs": [],
   "source": [
    "df_telemetry_cleaned = df_telemetry_cleaned.join(df_machines, on=['machineID'], how='outer')"
   ]
  },
  {
   "cell_type": "markdown",
   "metadata": {},
   "source": [
    "#### wherever failure is null there the column is marked zero and otherwise it is marked 1 . further helpful for generating labels"
   ]
  },
  {
   "cell_type": "code",
   "execution_count": 10,
   "metadata": {},
   "outputs": [],
   "source": [
    "\n",
    "\n",
    "df_telemetry_labeled = df_telemetry_cleaned.withColumn(\"failure\",when(col(\"failure\").isNotNull(),'1').otherwise('0'))"
   ]
  },
  {
   "cell_type": "code",
   "execution_count": 11,
   "metadata": {},
   "outputs": [
    {
     "name": "stdout",
     "output_type": "stream",
     "text": [
      "+---------+-------------------+----------------+----------------+----------------+----------------+-------+------+---+\n",
      "|machineID|           datetime|            volt|          rotate|        pressure|       vibration|failure| model|age|\n",
      "+---------+-------------------+----------------+----------------+----------------+----------------+-------+------+---+\n",
      "|      296|2015-01-09 03:00:00|171.302523315541|478.161032557448| 96.186255065758|32.9160861743769|      0|model1|  5|\n",
      "|      296|2015-01-23 06:00:00|167.523400545631|515.064197650393|106.391024193625|41.6073098354008|      0|model1|  5|\n",
      "|      296|2015-01-24 00:00:00|180.397228104738|524.872142428439|102.871534752792|42.0092719627669|      0|model1|  5|\n",
      "|      296|2015-01-24 10:00:00|180.122314795148|459.234959284642|112.824618325131|46.1331985231815|      0|model1|  5|\n",
      "|      296|2015-01-31 14:00:00|151.478558067995|454.186658088772|102.132114187536|  41.23899424475|      0|model1|  5|\n",
      "|      296|2015-01-31 21:00:00|161.691490644465|377.984486889851|120.138143140493|27.3426890510705|      0|model1|  5|\n",
      "|      296|2015-03-03 18:00:00|157.929319394822|383.723059079842|109.078001124041|43.6865106523429|      0|model1|  5|\n",
      "|      296|2015-03-09 22:00:00|175.758511591115|393.046321452676|90.3488990481645|50.2392018495198|      0|model1|  5|\n",
      "|      296|2015-03-09 23:00:00|163.758211317541| 480.95741577279|81.1650890802996|41.2581653231337|      0|model1|  5|\n",
      "|      296|2015-03-18 20:00:00|190.564832058862| 426.91003876186|131.780459346763|41.5866853631551|      0|model1|  5|\n",
      "|      296|2015-03-26 00:00:00|180.752938453552|368.030602909112| 101.07380354623|46.9349784564812|      0|model1|  5|\n",
      "|      296|2015-03-27 12:00:00|190.979506589137|394.015472079459|107.176504297536|41.8966505967994|      0|model1|  5|\n",
      "|      296|2015-03-31 01:00:00|192.978937310755|574.854180657543|97.8601367489888|42.5233666389211|      0|model1|  5|\n",
      "|      296|2015-04-06 18:00:00|169.007888429406|452.549588188221|111.049407728335|39.7304610804487|      0|model1|  5|\n",
      "|      296|2015-04-12 15:00:00|165.011359140139|485.448459162155|97.4040402625146|34.3905372369273|      0|model1|  5|\n",
      "|      296|2015-04-14 03:00:00|165.429374612476| 376.79943401941|117.069482737958|43.3840466947148|      0|model1|  5|\n",
      "|      296|2015-05-06 08:00:00|156.890343132401|435.784210349963|99.4462676501666|37.2767476943836|      0|model1|  5|\n",
      "|      296|2015-05-11 10:00:00|146.499135973024|432.180139504134|102.371510577543|40.2341461150116|      0|model1|  5|\n",
      "|      296|2015-05-12 03:00:00|197.047335061481|389.668658723826|78.8262597598826|36.9463891822105|      0|model1|  5|\n",
      "|      296|2015-06-18 13:00:00|161.060519278642|434.693055882003|108.959477272381|37.4280284422763|      0|model1|  5|\n",
      "+---------+-------------------+----------------+----------------+----------------+----------------+-------+------+---+\n",
      "only showing top 20 rows\n",
      "\n"
     ]
    }
   ],
   "source": [
    "df_telemetry_labeled.show()"
   ]
  },
  {
   "cell_type": "code",
   "execution_count": null,
   "metadata": {},
   "outputs": [],
   "source": [
    "df_telemetry_labeled.coalesce(1).write.option(\"header\", \"true\").csv(\"features_unclean.csv\")"
   ]
  },
  {
   "cell_type": "markdown",
   "metadata": {},
   "source": [
    "## Feature engineering, selection and visualisations"
   ]
  },
  {
   "cell_type": "code",
   "execution_count": 2,
   "metadata": {},
   "outputs": [],
   "source": [
    "import pandas as pd\n",
    "import numpy as np\n",
    "import seaborn as sns\n",
    "import matplotlib.pyplot as plt\n",
    "%matplotlib inline"
   ]
  },
  {
   "cell_type": "code",
   "execution_count": 53,
   "metadata": {},
   "outputs": [],
   "source": [
    "df_features = pd.read_csv(\"/home/vanshil/Desktop/zf_task/features.csv\")"
   ]
  },
  {
   "cell_type": "code",
   "execution_count": 14,
   "metadata": {},
   "outputs": [
    {
     "data": {
      "text/html": [
       "<div>\n",
       "<style scoped>\n",
       "    .dataframe tbody tr th:only-of-type {\n",
       "        vertical-align: middle;\n",
       "    }\n",
       "\n",
       "    .dataframe tbody tr th {\n",
       "        vertical-align: top;\n",
       "    }\n",
       "\n",
       "    .dataframe thead th {\n",
       "        text-align: right;\n",
       "    }\n",
       "</style>\n",
       "<table border=\"1\" class=\"dataframe\">\n",
       "  <thead>\n",
       "    <tr style=\"text-align: right;\">\n",
       "      <th></th>\n",
       "      <th>machineID</th>\n",
       "      <th>datetime</th>\n",
       "      <th>volt</th>\n",
       "      <th>rotate</th>\n",
       "      <th>pressure</th>\n",
       "      <th>vibration</th>\n",
       "      <th>failure</th>\n",
       "      <th>model</th>\n",
       "      <th>age</th>\n",
       "    </tr>\n",
       "  </thead>\n",
       "  <tbody>\n",
       "    <tr>\n",
       "      <th>0</th>\n",
       "      <td>296</td>\n",
       "      <td>2015-01-02 22:00:00</td>\n",
       "      <td>195.644993</td>\n",
       "      <td>397.161609</td>\n",
       "      <td>117.534915</td>\n",
       "      <td>43.068444</td>\n",
       "      <td>0</td>\n",
       "      <td>model1</td>\n",
       "      <td>5</td>\n",
       "    </tr>\n",
       "    <tr>\n",
       "      <th>1</th>\n",
       "      <td>296</td>\n",
       "      <td>2015-01-13 08:00:00</td>\n",
       "      <td>167.231340</td>\n",
       "      <td>437.992356</td>\n",
       "      <td>107.735910</td>\n",
       "      <td>29.958309</td>\n",
       "      <td>0</td>\n",
       "      <td>model1</td>\n",
       "      <td>5</td>\n",
       "    </tr>\n",
       "    <tr>\n",
       "      <th>2</th>\n",
       "      <td>296</td>\n",
       "      <td>2015-01-26 22:00:00</td>\n",
       "      <td>155.494618</td>\n",
       "      <td>444.586288</td>\n",
       "      <td>92.871857</td>\n",
       "      <td>46.600535</td>\n",
       "      <td>0</td>\n",
       "      <td>model1</td>\n",
       "      <td>5</td>\n",
       "    </tr>\n",
       "    <tr>\n",
       "      <th>3</th>\n",
       "      <td>296</td>\n",
       "      <td>2015-01-27 04:00:00</td>\n",
       "      <td>163.568941</td>\n",
       "      <td>533.025381</td>\n",
       "      <td>102.996083</td>\n",
       "      <td>33.197771</td>\n",
       "      <td>0</td>\n",
       "      <td>model1</td>\n",
       "      <td>5</td>\n",
       "    </tr>\n",
       "    <tr>\n",
       "      <th>4</th>\n",
       "      <td>296</td>\n",
       "      <td>2015-03-07 20:00:00</td>\n",
       "      <td>163.491264</td>\n",
       "      <td>521.007650</td>\n",
       "      <td>81.429920</td>\n",
       "      <td>42.889361</td>\n",
       "      <td>0</td>\n",
       "      <td>model1</td>\n",
       "      <td>5</td>\n",
       "    </tr>\n",
       "  </tbody>\n",
       "</table>\n",
       "</div>"
      ],
      "text/plain": [
       "   machineID             datetime        volt      rotate    pressure  \\\n",
       "0        296  2015-01-02 22:00:00  195.644993  397.161609  117.534915   \n",
       "1        296  2015-01-13 08:00:00  167.231340  437.992356  107.735910   \n",
       "2        296  2015-01-26 22:00:00  155.494618  444.586288   92.871857   \n",
       "3        296  2015-01-27 04:00:00  163.568941  533.025381  102.996083   \n",
       "4        296  2015-03-07 20:00:00  163.491264  521.007650   81.429920   \n",
       "\n",
       "   vibration  failure   model  age  \n",
       "0  43.068444        0  model1    5  \n",
       "1  29.958309        0  model1    5  \n",
       "2  46.600535        0  model1    5  \n",
       "3  33.197771        0  model1    5  \n",
       "4  42.889361        0  model1    5  "
      ]
     },
     "execution_count": 14,
     "metadata": {},
     "output_type": "execute_result"
    }
   ],
   "source": [
    "df_features.head()"
   ]
  },
  {
   "cell_type": "markdown",
   "metadata": {},
   "source": [
    "#### Plotting a correlation matrix for a random machineID to see whether volt, pressure ,rotate and vibration are independent"
   ]
  },
  {
   "cell_type": "code",
   "execution_count": null,
   "metadata": {},
   "outputs": [],
   "source": [
    "n = random.randint(0,1000)\n",
    "df_analyse=df_features[df_features['machineID']==n]"
   ]
  },
  {
   "cell_type": "code",
   "execution_count": null,
   "metadata": {},
   "outputs": [],
   "source": [
    "df_analyse.drop(columns=['machineID','datetime','model','age'],inplace=True)"
   ]
  },
  {
   "cell_type": "code",
   "execution_count": null,
   "metadata": {},
   "outputs": [],
   "source": [
    "colormap = plt.cm.RdBu\n",
    "plt.figure(figsize=(14,12))\n",
    "plt.title('Pearson Correlation of Features', y=1.05, size=15)\n",
    "sns.heatmap(df_analyse.astype(float).corr(),linewidths=0.1,vmax=1.0, \n",
    "            square=True, cmap=colormap, linecolor='white', annot=True)"
   ]
  },
  {
   "attachments": {
    "image.png": {
     "image/png": "[encoded data removed]"
    }
   },
   "cell_type": "markdown",
   "metadata": {},
   "source": [
    "![image.png](attachment:image.png)"
   ]
  },
  {
   "cell_type": "markdown",
   "metadata": {},
   "source": [
    "####  Variation of pressure, vibration, rotate volt for one machine"
   ]
  },
  {
   "cell_type": "code",
   "execution_count": null,
   "metadata": {},
   "outputs": [],
   "source": [
    "df_features =pd.read_csv(\"features.csv\")\n",
    "df_sanity_check=df_features[df_features['machineID']==296]\n",
    "df_sanity_check['datetime']=pd.to_datetime(df_sanity_check['datetime'].values)\n",
    "df_sanity_check = df_sanity_check.set_index('datetime')\n"
   ]
  },
  {
   "cell_type": "code",
   "execution_count": null,
   "metadata": {},
   "outputs": [],
   "source": [
    "from sklearn import preprocessing\n",
    "x_p = df_sanity_check['pressure'].values \n",
    "x_p=x_p.reshape(-1,1)\n",
    "min_max_scaler = preprocessing.MinMaxScaler()\n",
    "x_p_scaled = min_max_scaler.fit_transform(x_p)\n",
    "\n",
    "\n",
    "x_v = df_sanity_check['volt'].values \n",
    "x_v=x_v.reshape(-1,1)\n",
    "min_max_scaler = preprocessing.MinMaxScaler()\n",
    "x_v_scaled = min_max_scaler.fit_transform(x_v)\n",
    "\n",
    "x_rot = df_sanity_check['rotate'].values \n",
    "x_rot=x_rot.reshape(-1,1)\n",
    "min_max_scaler = preprocessing.MinMaxScaler()\n",
    "x_rot_scaled = min_max_scaler.fit_transform(x_rot)\n",
    "\n",
    "x_vib = df_sanity_check['vibration'].values \n",
    "x_vib=x_vib.reshape(-1,1)\n",
    "min_max_scaler = preprocessing.MinMaxScaler()\n",
    "x_vib_scaled = min_max_scaler.fit_transform(x_vib)\n"
   ]
  },
  {
   "attachments": {},
   "cell_type": "markdown",
   "metadata": {},
   "source": [
    "![rotate](https://raw.githubusercontent.com/vanshilshah97/pred_maint_zf/main/images/rotate_normalised.png)"
   ]
  },
  {
   "attachments": {},
   "cell_type": "markdown",
   "metadata": {},
   "source": [
    "![rotate](https://raw.githubusercontent.com/vanshilshah97/pred_maint_zf/main/images/vibration_normalised.png)"
   ]
  },
  {
   "attachments": {},
   "cell_type": "markdown",
   "metadata": {},
   "source": [
    "![rotate](https://raw.githubusercontent.com/vanshilshah97/pred_maint_zf/main/images/volt_normalised.png)"
   ]
  },
  {
   "attachments": {},
   "cell_type": "markdown",
   "metadata": {},
   "source": [
    "![rotate](https://raw.githubusercontent.com/vanshilshah97/pred_maint_zf/main/images/pressure_normalised.png)"
   ]
  },
  {
   "cell_type": "markdown",
   "metadata": {},
   "source": [
    "### Pivoting on 'model'"
   ]
  },
  {
   "cell_type": "code",
   "execution_count": null,
   "metadata": {},
   "outputs": [],
   "source": [
    "df_features[['model', 'failure']].groupby(['model'], as_index=False).sum().sort_values(by='failure', ascending=False)"
   ]
  },
  {
   "attachments": {},
   "cell_type": "markdown",
   "metadata": {},
   "source": [
    "![model1](https://raw.githubusercontent.com/vanshilshah97/pred_maint_zf/main/images/pivoting_on_model1.png)"
   ]
  },
  {
   "attachments": {},
   "cell_type": "markdown",
   "metadata": {},
   "source": [
    "![model2](https://raw.githubusercontent.com/vanshilshah97/pred_maint_zf/main/images/pivoting_on_model2.png)"
   ]
  },
  {
   "attachments": {},
   "cell_type": "markdown",
   "metadata": {},
   "source": [
    "![model3](https://raw.githubusercontent.com/vanshilshah97/pred_maint_zf/main/images/pivoting_on_model3.png)"
   ]
  },
  {
   "cell_type": "markdown",
   "metadata": {},
   "source": [
    "### Pivoting on age"
   ]
  },
  {
   "cell_type": "code",
   "execution_count": null,
   "metadata": {},
   "outputs": [],
   "source": [
    "df_features[['age', 'failure']].groupby(['age'], as_index=False).sum().sort_values(by='failure', ascending=False)"
   ]
  },
  {
   "attachments": {},
   "cell_type": "markdown",
   "metadata": {},
   "source": [
    "![age1.png](https://raw.githubusercontent.com/vanshilshah97/pred_maint_zf/main/images/pivoting_on_age1.png)"
   ]
  },
  {
   "attachments": {},
   "cell_type": "markdown",
   "metadata": {},
   "source": [
    "![age2](https://raw.githubusercontent.com/vanshilshah97/pred_maint_zf/main/images/pivoting_on_age2.png)"
   ]
  },
  {
   "attachments": {},
   "cell_type": "markdown",
   "metadata": {},
   "source": [
    "![age3](https://raw.githubusercontent.com/vanshilshah97/pred_maint_zf/main/images/pivoting_on_age3.png)"
   ]
  },
  {
   "cell_type": "markdown",
   "metadata": {},
   "source": [
    "### For predictive maintainance and  i am assuming a window of 5 hours and marking 5 rows before a failure as failure"
   ]
  },
  {
   "cell_type": "code",
   "execution_count": 4,
   "metadata": {},
   "outputs": [
    {
     "data": {
      "application/vnd.jupyter.widget-view+json": {
       "model_id": "6e80c17110154f3281fd84bf5bb812c8",
       "version_major": 2,
       "version_minor": 0
      },
      "text/plain": [
       "HBox(children=(FloatProgress(value=0.0, max=6368.0), HTML(value='')))"
      ]
     },
     "metadata": {},
     "output_type": "display_data"
    },
    {
     "name": "stdout",
     "output_type": "stream",
     "text": [
      "\n"
     ]
    }
   ],
   "source": [
    "idx=np.where(df_features.failure.values==1)[0]\n",
    "\n",
    "indices=[]\n",
    "from tqdm.notebook import tqdm\n",
    "for x in tqdm(idx):\n",
    "    for i in range(0,6): ## the window I chose\n",
    "        if(df_features.iloc[x,0]==df_features.iloc[(x-i),0]): ## getting the indices and checking whether they belong to the same machine Id as our data of telemetry has all machineId's together\n",
    "                indices.append(x-i)\n",
    "\n"
   ]
  },
  {
   "cell_type": "code",
   "execution_count": null,
   "metadata": {},
   "outputs": [],
   "source": [
    "print(indices, len(indices)) ##these are the indices where we have to mark failures"
   ]
  },
  {
   "cell_type": "code",
   "execution_count": 13,
   "metadata": {},
   "outputs": [],
   "source": [
    "arr=np.zeros((df_features.shape[0]))\n",
    "arr[indices]=1\n",
    "df_features['failure']=arr"
   ]
  },
  {
   "cell_type": "code",
   "execution_count": 14,
   "metadata": {},
   "outputs": [
    {
     "data": {
      "text/plain": [
       "38144"
      ]
     },
     "execution_count": 14,
     "metadata": {},
     "output_type": "execute_result"
    }
   ],
   "source": [
    "np.sum(df_features['failure']==1) ## no of total cases considered as failures"
   ]
  },
  {
   "cell_type": "code",
   "execution_count": 16,
   "metadata": {},
   "outputs": [],
   "source": [
    "df_features.drop(columns=['failures'],inplace=True)"
   ]
  },
  {
   "cell_type": "markdown",
   "metadata": {},
   "source": [
    "#### now converting 'model' feature to one-hot encoding\n"
   ]
  },
  {
   "cell_type": "code",
   "execution_count": 9,
   "metadata": {},
   "outputs": [
    {
     "data": {
      "text/html": [
       "<div>\n",
       "<style scoped>\n",
       "    .dataframe tbody tr th:only-of-type {\n",
       "        vertical-align: middle;\n",
       "    }\n",
       "\n",
       "    .dataframe tbody tr th {\n",
       "        vertical-align: top;\n",
       "    }\n",
       "\n",
       "    .dataframe thead th {\n",
       "        text-align: right;\n",
       "    }\n",
       "</style>\n",
       "<table border=\"1\" class=\"dataframe\">\n",
       "  <thead>\n",
       "    <tr style=\"text-align: right;\">\n",
       "      <th></th>\n",
       "      <th>model</th>\n",
       "      <th>model_cat</th>\n",
       "    </tr>\n",
       "  </thead>\n",
       "  <tbody>\n",
       "    <tr>\n",
       "      <th>0</th>\n",
       "      <td>model1</td>\n",
       "      <td>0</td>\n",
       "    </tr>\n",
       "    <tr>\n",
       "      <th>1</th>\n",
       "      <td>model2</td>\n",
       "      <td>1</td>\n",
       "    </tr>\n",
       "    <tr>\n",
       "      <th>2</th>\n",
       "      <td>model3</td>\n",
       "      <td>2</td>\n",
       "    </tr>\n",
       "    <tr>\n",
       "      <th>3</th>\n",
       "      <td>model4</td>\n",
       "      <td>3</td>\n",
       "    </tr>\n",
       "  </tbody>\n",
       "</table>\n",
       "</div>"
      ],
      "text/plain": [
       "    model  model_cat\n",
       "0  model1          0\n",
       "1  model2          1\n",
       "2  model3          2\n",
       "3  model4          3"
      ]
     },
     "execution_count": 9,
     "metadata": {},
     "output_type": "execute_result"
    }
   ],
   "source": [
    "\n",
    "from sklearn.preprocessing import LabelEncoder\n",
    "# creating initial dataframe\n",
    "model_types = ('model1', 'model2' , 'model3' , 'model4')\n",
    "model_df = pd.DataFrame(model_types, columns=['model'])\n",
    "# creating instance of labelencoder\n",
    "labelencoder = LabelEncoder()\n",
    "# Assigning numerical values and storing in another column\n",
    "model_df['model_cat'] = labelencoder.fit_transform(model_df['model'])\n",
    "model_df"
   ]
  },
  {
   "cell_type": "code",
   "execution_count": 10,
   "metadata": {},
   "outputs": [
    {
     "data": {
      "text/html": [
       "<div>\n",
       "<style scoped>\n",
       "    .dataframe tbody tr th:only-of-type {\n",
       "        vertical-align: middle;\n",
       "    }\n",
       "\n",
       "    .dataframe tbody tr th {\n",
       "        vertical-align: top;\n",
       "    }\n",
       "\n",
       "    .dataframe thead th {\n",
       "        text-align: right;\n",
       "    }\n",
       "</style>\n",
       "<table border=\"1\" class=\"dataframe\">\n",
       "  <thead>\n",
       "    <tr style=\"text-align: right;\">\n",
       "      <th></th>\n",
       "      <th>model</th>\n",
       "      <th>model_cat</th>\n",
       "      <th>0</th>\n",
       "      <th>1</th>\n",
       "      <th>2</th>\n",
       "      <th>3</th>\n",
       "    </tr>\n",
       "  </thead>\n",
       "  <tbody>\n",
       "    <tr>\n",
       "      <th>0</th>\n",
       "      <td>model1</td>\n",
       "      <td>0</td>\n",
       "      <td>1.0</td>\n",
       "      <td>0.0</td>\n",
       "      <td>0.0</td>\n",
       "      <td>0.0</td>\n",
       "    </tr>\n",
       "    <tr>\n",
       "      <th>1</th>\n",
       "      <td>model2</td>\n",
       "      <td>1</td>\n",
       "      <td>0.0</td>\n",
       "      <td>1.0</td>\n",
       "      <td>0.0</td>\n",
       "      <td>0.0</td>\n",
       "    </tr>\n",
       "    <tr>\n",
       "      <th>2</th>\n",
       "      <td>model3</td>\n",
       "      <td>2</td>\n",
       "      <td>0.0</td>\n",
       "      <td>0.0</td>\n",
       "      <td>1.0</td>\n",
       "      <td>0.0</td>\n",
       "    </tr>\n",
       "    <tr>\n",
       "      <th>3</th>\n",
       "      <td>model4</td>\n",
       "      <td>3</td>\n",
       "      <td>0.0</td>\n",
       "      <td>0.0</td>\n",
       "      <td>0.0</td>\n",
       "      <td>1.0</td>\n",
       "    </tr>\n",
       "  </tbody>\n",
       "</table>\n",
       "</div>"
      ],
      "text/plain": [
       "    model  model_cat    0    1    2    3\n",
       "0  model1          0  1.0  0.0  0.0  0.0\n",
       "1  model2          1  0.0  1.0  0.0  0.0\n",
       "2  model3          2  0.0  0.0  1.0  0.0\n",
       "3  model4          3  0.0  0.0  0.0  1.0"
      ]
     },
     "execution_count": 10,
     "metadata": {},
     "output_type": "execute_result"
    }
   ],
   "source": [
    "from sklearn.preprocessing import OneHotEncoder\n",
    "# creating instance of one-hot-encoder\n",
    "enc = OneHotEncoder(handle_unknown='ignore')\n",
    "\n",
    "enc_df = pd.DataFrame(enc.fit_transform(model_df[['model_cat']]).toarray())\n",
    "\n",
    "model_df = model_df.join(enc_df)\n",
    "model_df"
   ]
  },
  {
   "cell_type": "code",
   "execution_count": 17,
   "metadata": {},
   "outputs": [],
   "source": [
    "df_features_edited=pd.merge(df_features, model_df, how='outer', on=['model']) ## doing an outer join to place the one-hot encodng at respective places"
   ]
  },
  {
   "cell_type": "code",
   "execution_count": 18,
   "metadata": {},
   "outputs": [
    {
     "data": {
      "text/html": [
       "<div>\n",
       "<style scoped>\n",
       "    .dataframe tbody tr th:only-of-type {\n",
       "        vertical-align: middle;\n",
       "    }\n",
       "\n",
       "    .dataframe tbody tr th {\n",
       "        vertical-align: top;\n",
       "    }\n",
       "\n",
       "    .dataframe thead th {\n",
       "        text-align: right;\n",
       "    }\n",
       "</style>\n",
       "<table border=\"1\" class=\"dataframe\">\n",
       "  <thead>\n",
       "    <tr style=\"text-align: right;\">\n",
       "      <th></th>\n",
       "      <th>machineID</th>\n",
       "      <th>datetime</th>\n",
       "      <th>volt</th>\n",
       "      <th>rotate</th>\n",
       "      <th>pressure</th>\n",
       "      <th>vibration</th>\n",
       "      <th>failure</th>\n",
       "      <th>model</th>\n",
       "      <th>age</th>\n",
       "      <th>model_cat</th>\n",
       "      <th>0</th>\n",
       "      <th>1</th>\n",
       "      <th>2</th>\n",
       "      <th>3</th>\n",
       "    </tr>\n",
       "  </thead>\n",
       "  <tbody>\n",
       "    <tr>\n",
       "      <th>0</th>\n",
       "      <td>296</td>\n",
       "      <td>2015-01-02 22:00:00</td>\n",
       "      <td>195.644993</td>\n",
       "      <td>397.161609</td>\n",
       "      <td>117.534915</td>\n",
       "      <td>43.068444</td>\n",
       "      <td>0.0</td>\n",
       "      <td>model1</td>\n",
       "      <td>5</td>\n",
       "      <td>0</td>\n",
       "      <td>1.0</td>\n",
       "      <td>0.0</td>\n",
       "      <td>0.0</td>\n",
       "      <td>0.0</td>\n",
       "    </tr>\n",
       "    <tr>\n",
       "      <th>1</th>\n",
       "      <td>296</td>\n",
       "      <td>2015-01-13 08:00:00</td>\n",
       "      <td>167.231340</td>\n",
       "      <td>437.992356</td>\n",
       "      <td>107.735910</td>\n",
       "      <td>29.958309</td>\n",
       "      <td>0.0</td>\n",
       "      <td>model1</td>\n",
       "      <td>5</td>\n",
       "      <td>0</td>\n",
       "      <td>1.0</td>\n",
       "      <td>0.0</td>\n",
       "      <td>0.0</td>\n",
       "      <td>0.0</td>\n",
       "    </tr>\n",
       "    <tr>\n",
       "      <th>2</th>\n",
       "      <td>296</td>\n",
       "      <td>2015-01-26 22:00:00</td>\n",
       "      <td>155.494618</td>\n",
       "      <td>444.586288</td>\n",
       "      <td>92.871857</td>\n",
       "      <td>46.600535</td>\n",
       "      <td>0.0</td>\n",
       "      <td>model1</td>\n",
       "      <td>5</td>\n",
       "      <td>0</td>\n",
       "      <td>1.0</td>\n",
       "      <td>0.0</td>\n",
       "      <td>0.0</td>\n",
       "      <td>0.0</td>\n",
       "    </tr>\n",
       "    <tr>\n",
       "      <th>3</th>\n",
       "      <td>296</td>\n",
       "      <td>2015-01-27 04:00:00</td>\n",
       "      <td>163.568941</td>\n",
       "      <td>533.025381</td>\n",
       "      <td>102.996083</td>\n",
       "      <td>33.197771</td>\n",
       "      <td>0.0</td>\n",
       "      <td>model1</td>\n",
       "      <td>5</td>\n",
       "      <td>0</td>\n",
       "      <td>1.0</td>\n",
       "      <td>0.0</td>\n",
       "      <td>0.0</td>\n",
       "      <td>0.0</td>\n",
       "    </tr>\n",
       "    <tr>\n",
       "      <th>4</th>\n",
       "      <td>296</td>\n",
       "      <td>2015-03-07 20:00:00</td>\n",
       "      <td>163.491264</td>\n",
       "      <td>521.007650</td>\n",
       "      <td>81.429920</td>\n",
       "      <td>42.889361</td>\n",
       "      <td>0.0</td>\n",
       "      <td>model1</td>\n",
       "      <td>5</td>\n",
       "      <td>0</td>\n",
       "      <td>1.0</td>\n",
       "      <td>0.0</td>\n",
       "      <td>0.0</td>\n",
       "      <td>0.0</td>\n",
       "    </tr>\n",
       "  </tbody>\n",
       "</table>\n",
       "</div>"
      ],
      "text/plain": [
       "   machineID             datetime        volt      rotate    pressure  \\\n",
       "0        296  2015-01-02 22:00:00  195.644993  397.161609  117.534915   \n",
       "1        296  2015-01-13 08:00:00  167.231340  437.992356  107.735910   \n",
       "2        296  2015-01-26 22:00:00  155.494618  444.586288   92.871857   \n",
       "3        296  2015-01-27 04:00:00  163.568941  533.025381  102.996083   \n",
       "4        296  2015-03-07 20:00:00  163.491264  521.007650   81.429920   \n",
       "\n",
       "   vibration  failure   model  age  model_cat    0    1    2    3  \n",
       "0  43.068444      0.0  model1    5          0  1.0  0.0  0.0  0.0  \n",
       "1  29.958309      0.0  model1    5          0  1.0  0.0  0.0  0.0  \n",
       "2  46.600535      0.0  model1    5          0  1.0  0.0  0.0  0.0  \n",
       "3  33.197771      0.0  model1    5          0  1.0  0.0  0.0  0.0  \n",
       "4  42.889361      0.0  model1    5          0  1.0  0.0  0.0  0.0  "
      ]
     },
     "execution_count": 18,
     "metadata": {},
     "output_type": "execute_result"
    }
   ],
   "source": [
    "df_features_edited.head()"
   ]
  },
  {
   "cell_type": "code",
   "execution_count": 19,
   "metadata": {},
   "outputs": [],
   "source": [
    "df_features_edited.drop(columns=['datetime','model_cat','model'],inplace=True)"
   ]
  },
  {
   "cell_type": "code",
   "execution_count": 22,
   "metadata": {},
   "outputs": [
    {
     "data": {
      "text/html": [
       "<div>\n",
       "<style scoped>\n",
       "    .dataframe tbody tr th:only-of-type {\n",
       "        vertical-align: middle;\n",
       "    }\n",
       "\n",
       "    .dataframe tbody tr th {\n",
       "        vertical-align: top;\n",
       "    }\n",
       "\n",
       "    .dataframe thead th {\n",
       "        text-align: right;\n",
       "    }\n",
       "</style>\n",
       "<table border=\"1\" class=\"dataframe\">\n",
       "  <thead>\n",
       "    <tr style=\"text-align: right;\">\n",
       "      <th></th>\n",
       "      <th>machineID</th>\n",
       "      <th>volt</th>\n",
       "      <th>rotate</th>\n",
       "      <th>pressure</th>\n",
       "      <th>vibration</th>\n",
       "      <th>failure</th>\n",
       "      <th>age</th>\n",
       "      <th>0</th>\n",
       "      <th>1</th>\n",
       "      <th>2</th>\n",
       "      <th>3</th>\n",
       "    </tr>\n",
       "  </thead>\n",
       "  <tbody>\n",
       "    <tr>\n",
       "      <th>0</th>\n",
       "      <td>296</td>\n",
       "      <td>195.644993</td>\n",
       "      <td>397.161609</td>\n",
       "      <td>117.534915</td>\n",
       "      <td>43.068444</td>\n",
       "      <td>0.0</td>\n",
       "      <td>5</td>\n",
       "      <td>1.0</td>\n",
       "      <td>0.0</td>\n",
       "      <td>0.0</td>\n",
       "      <td>0.0</td>\n",
       "    </tr>\n",
       "    <tr>\n",
       "      <th>1</th>\n",
       "      <td>296</td>\n",
       "      <td>167.231340</td>\n",
       "      <td>437.992356</td>\n",
       "      <td>107.735910</td>\n",
       "      <td>29.958309</td>\n",
       "      <td>0.0</td>\n",
       "      <td>5</td>\n",
       "      <td>1.0</td>\n",
       "      <td>0.0</td>\n",
       "      <td>0.0</td>\n",
       "      <td>0.0</td>\n",
       "    </tr>\n",
       "    <tr>\n",
       "      <th>2</th>\n",
       "      <td>296</td>\n",
       "      <td>155.494618</td>\n",
       "      <td>444.586288</td>\n",
       "      <td>92.871857</td>\n",
       "      <td>46.600535</td>\n",
       "      <td>0.0</td>\n",
       "      <td>5</td>\n",
       "      <td>1.0</td>\n",
       "      <td>0.0</td>\n",
       "      <td>0.0</td>\n",
       "      <td>0.0</td>\n",
       "    </tr>\n",
       "    <tr>\n",
       "      <th>3</th>\n",
       "      <td>296</td>\n",
       "      <td>163.568941</td>\n",
       "      <td>533.025381</td>\n",
       "      <td>102.996083</td>\n",
       "      <td>33.197771</td>\n",
       "      <td>0.0</td>\n",
       "      <td>5</td>\n",
       "      <td>1.0</td>\n",
       "      <td>0.0</td>\n",
       "      <td>0.0</td>\n",
       "      <td>0.0</td>\n",
       "    </tr>\n",
       "    <tr>\n",
       "      <th>4</th>\n",
       "      <td>296</td>\n",
       "      <td>163.491264</td>\n",
       "      <td>521.007650</td>\n",
       "      <td>81.429920</td>\n",
       "      <td>42.889361</td>\n",
       "      <td>0.0</td>\n",
       "      <td>5</td>\n",
       "      <td>1.0</td>\n",
       "      <td>0.0</td>\n",
       "      <td>0.0</td>\n",
       "      <td>0.0</td>\n",
       "    </tr>\n",
       "  </tbody>\n",
       "</table>\n",
       "</div>"
      ],
      "text/plain": [
       "   machineID        volt      rotate    pressure  vibration  failure  age  \\\n",
       "0        296  195.644993  397.161609  117.534915  43.068444      0.0    5   \n",
       "1        296  167.231340  437.992356  107.735910  29.958309      0.0    5   \n",
       "2        296  155.494618  444.586288   92.871857  46.600535      0.0    5   \n",
       "3        296  163.568941  533.025381  102.996083  33.197771      0.0    5   \n",
       "4        296  163.491264  521.007650   81.429920  42.889361      0.0    5   \n",
       "\n",
       "     0    1    2    3  \n",
       "0  1.0  0.0  0.0  0.0  \n",
       "1  1.0  0.0  0.0  0.0  \n",
       "2  1.0  0.0  0.0  0.0  \n",
       "3  1.0  0.0  0.0  0.0  \n",
       "4  1.0  0.0  0.0  0.0  "
      ]
     },
     "execution_count": 22,
     "metadata": {},
     "output_type": "execute_result"
    }
   ],
   "source": [
    "df_features_edited.head()"
   ]
  },
  {
   "cell_type": "markdown",
   "metadata": {},
   "source": [
    "## Training and testing dataset"
   ]
  },
  {
   "cell_type": "code",
   "execution_count": 24,
   "metadata": {},
   "outputs": [],
   "source": [
    "from sklearn.model_selection import train_test_split\n",
    "df_unhealthy = df_features_edited[df_features_edited['failure']==1]\n",
    "df_healthy  = df_features_edited[df_features_edited['failure']==0]"
   ]
  },
  {
   "cell_type": "code",
   "execution_count": 25,
   "metadata": {},
   "outputs": [
    {
     "data": {
      "text/plain": [
       "(38144, 11)"
      ]
     },
     "execution_count": 25,
     "metadata": {},
     "output_type": "execute_result"
    }
   ],
   "source": [
    "df_unhealthy.shape"
   ]
  },
  {
   "cell_type": "code",
   "execution_count": 26,
   "metadata": {},
   "outputs": [
    {
     "data": {
      "text/plain": [
       "(8715856, 11)"
      ]
     },
     "execution_count": 26,
     "metadata": {},
     "output_type": "execute_result"
    }
   ],
   "source": [
    "df_healthy.shape"
   ]
  },
  {
   "cell_type": "markdown",
   "metadata": {},
   "source": [
    "#### The above number of datapoints for healthy and unhealthy show highly skewed dataset"
   ]
  },
  {
   "cell_type": "code",
   "execution_count": 28,
   "metadata": {},
   "outputs": [],
   "source": [
    "##Splitting the training and testing dataset in 80:20\n",
    "\n",
    "x_train_healthy,x_test_healthy = train_test_split(df_healthy,test_size = 0.2)\n",
    "x_train_unhealthy,x_test_unhealthy = train_test_split(df_unhealthy,test_size = 0.2)\n",
    "\n",
    "x_train = pd.concat([x_train_healthy,x_train_unhealthy])\n",
    "x_test = pd.concat([x_test_healthy,x_test_unhealthy])\n",
    "\n",
    "x_train.reset_index(drop=True,inplace=True)\n",
    "x_test.reset_index(drop=True,inplace=True)"
   ]
  },
  {
   "cell_type": "code",
   "execution_count": 29,
   "metadata": {},
   "outputs": [
    {
     "data": {
      "text/html": [
       "<div>\n",
       "<style scoped>\n",
       "    .dataframe tbody tr th:only-of-type {\n",
       "        vertical-align: middle;\n",
       "    }\n",
       "\n",
       "    .dataframe tbody tr th {\n",
       "        vertical-align: top;\n",
       "    }\n",
       "\n",
       "    .dataframe thead th {\n",
       "        text-align: right;\n",
       "    }\n",
       "</style>\n",
       "<table border=\"1\" class=\"dataframe\">\n",
       "  <thead>\n",
       "    <tr style=\"text-align: right;\">\n",
       "      <th></th>\n",
       "      <th>machineID</th>\n",
       "      <th>volt</th>\n",
       "      <th>rotate</th>\n",
       "      <th>pressure</th>\n",
       "      <th>vibration</th>\n",
       "      <th>failure</th>\n",
       "      <th>age</th>\n",
       "      <th>0</th>\n",
       "      <th>1</th>\n",
       "      <th>2</th>\n",
       "      <th>3</th>\n",
       "    </tr>\n",
       "  </thead>\n",
       "  <tbody>\n",
       "    <tr>\n",
       "      <th>0</th>\n",
       "      <td>769</td>\n",
       "      <td>180.727156</td>\n",
       "      <td>394.928535</td>\n",
       "      <td>108.986320</td>\n",
       "      <td>39.098950</td>\n",
       "      <td>0.0</td>\n",
       "      <td>4</td>\n",
       "      <td>1.0</td>\n",
       "      <td>0.0</td>\n",
       "      <td>0.0</td>\n",
       "      <td>0.0</td>\n",
       "    </tr>\n",
       "    <tr>\n",
       "      <th>1</th>\n",
       "      <td>148</td>\n",
       "      <td>155.150840</td>\n",
       "      <td>422.120804</td>\n",
       "      <td>94.790002</td>\n",
       "      <td>49.637434</td>\n",
       "      <td>0.0</td>\n",
       "      <td>9</td>\n",
       "      <td>0.0</td>\n",
       "      <td>0.0</td>\n",
       "      <td>1.0</td>\n",
       "      <td>0.0</td>\n",
       "    </tr>\n",
       "    <tr>\n",
       "      <th>2</th>\n",
       "      <td>488</td>\n",
       "      <td>175.672546</td>\n",
       "      <td>435.277850</td>\n",
       "      <td>92.399260</td>\n",
       "      <td>41.230263</td>\n",
       "      <td>0.0</td>\n",
       "      <td>6</td>\n",
       "      <td>0.0</td>\n",
       "      <td>0.0</td>\n",
       "      <td>1.0</td>\n",
       "      <td>0.0</td>\n",
       "    </tr>\n",
       "    <tr>\n",
       "      <th>3</th>\n",
       "      <td>256</td>\n",
       "      <td>178.726020</td>\n",
       "      <td>375.535064</td>\n",
       "      <td>91.367185</td>\n",
       "      <td>45.580307</td>\n",
       "      <td>0.0</td>\n",
       "      <td>9</td>\n",
       "      <td>0.0</td>\n",
       "      <td>0.0</td>\n",
       "      <td>0.0</td>\n",
       "      <td>1.0</td>\n",
       "    </tr>\n",
       "    <tr>\n",
       "      <th>4</th>\n",
       "      <td>640</td>\n",
       "      <td>161.486360</td>\n",
       "      <td>439.087827</td>\n",
       "      <td>87.927400</td>\n",
       "      <td>39.288666</td>\n",
       "      <td>0.0</td>\n",
       "      <td>13</td>\n",
       "      <td>0.0</td>\n",
       "      <td>1.0</td>\n",
       "      <td>0.0</td>\n",
       "      <td>0.0</td>\n",
       "    </tr>\n",
       "  </tbody>\n",
       "</table>\n",
       "</div>"
      ],
      "text/plain": [
       "   machineID        volt      rotate    pressure  vibration  failure  age  \\\n",
       "0        769  180.727156  394.928535  108.986320  39.098950      0.0    4   \n",
       "1        148  155.150840  422.120804   94.790002  49.637434      0.0    9   \n",
       "2        488  175.672546  435.277850   92.399260  41.230263      0.0    6   \n",
       "3        256  178.726020  375.535064   91.367185  45.580307      0.0    9   \n",
       "4        640  161.486360  439.087827   87.927400  39.288666      0.0   13   \n",
       "\n",
       "     0    1    2    3  \n",
       "0  1.0  0.0  0.0  0.0  \n",
       "1  0.0  0.0  1.0  0.0  \n",
       "2  0.0  0.0  1.0  0.0  \n",
       "3  0.0  0.0  0.0  1.0  \n",
       "4  0.0  1.0  0.0  0.0  "
      ]
     },
     "execution_count": 29,
     "metadata": {},
     "output_type": "execute_result"
    }
   ],
   "source": [
    "x_train.head()"
   ]
  },
  {
   "cell_type": "code",
   "execution_count": 30,
   "metadata": {},
   "outputs": [
    {
     "data": {
      "text/html": [
       "<div>\n",
       "<style scoped>\n",
       "    .dataframe tbody tr th:only-of-type {\n",
       "        vertical-align: middle;\n",
       "    }\n",
       "\n",
       "    .dataframe tbody tr th {\n",
       "        vertical-align: top;\n",
       "    }\n",
       "\n",
       "    .dataframe thead th {\n",
       "        text-align: right;\n",
       "    }\n",
       "</style>\n",
       "<table border=\"1\" class=\"dataframe\">\n",
       "  <thead>\n",
       "    <tr style=\"text-align: right;\">\n",
       "      <th></th>\n",
       "      <th>machineID</th>\n",
       "      <th>volt</th>\n",
       "      <th>rotate</th>\n",
       "      <th>pressure</th>\n",
       "      <th>vibration</th>\n",
       "      <th>failure</th>\n",
       "      <th>age</th>\n",
       "      <th>0</th>\n",
       "      <th>1</th>\n",
       "      <th>2</th>\n",
       "      <th>3</th>\n",
       "    </tr>\n",
       "  </thead>\n",
       "  <tbody>\n",
       "    <tr>\n",
       "      <th>0</th>\n",
       "      <td>761</td>\n",
       "      <td>179.740325</td>\n",
       "      <td>494.155334</td>\n",
       "      <td>115.532464</td>\n",
       "      <td>42.616557</td>\n",
       "      <td>0.0</td>\n",
       "      <td>20</td>\n",
       "      <td>0.0</td>\n",
       "      <td>0.0</td>\n",
       "      <td>1.0</td>\n",
       "      <td>0.0</td>\n",
       "    </tr>\n",
       "    <tr>\n",
       "      <th>1</th>\n",
       "      <td>99</td>\n",
       "      <td>151.836927</td>\n",
       "      <td>565.253393</td>\n",
       "      <td>123.897350</td>\n",
       "      <td>46.448609</td>\n",
       "      <td>0.0</td>\n",
       "      <td>14</td>\n",
       "      <td>0.0</td>\n",
       "      <td>1.0</td>\n",
       "      <td>0.0</td>\n",
       "      <td>0.0</td>\n",
       "    </tr>\n",
       "    <tr>\n",
       "      <th>2</th>\n",
       "      <td>165</td>\n",
       "      <td>190.628262</td>\n",
       "      <td>443.676702</td>\n",
       "      <td>99.128140</td>\n",
       "      <td>39.562085</td>\n",
       "      <td>0.0</td>\n",
       "      <td>19</td>\n",
       "      <td>0.0</td>\n",
       "      <td>0.0</td>\n",
       "      <td>0.0</td>\n",
       "      <td>1.0</td>\n",
       "    </tr>\n",
       "    <tr>\n",
       "      <th>3</th>\n",
       "      <td>708</td>\n",
       "      <td>181.347802</td>\n",
       "      <td>470.302929</td>\n",
       "      <td>101.582462</td>\n",
       "      <td>42.303743</td>\n",
       "      <td>0.0</td>\n",
       "      <td>7</td>\n",
       "      <td>0.0</td>\n",
       "      <td>0.0</td>\n",
       "      <td>0.0</td>\n",
       "      <td>1.0</td>\n",
       "    </tr>\n",
       "    <tr>\n",
       "      <th>4</th>\n",
       "      <td>888</td>\n",
       "      <td>166.905430</td>\n",
       "      <td>470.097708</td>\n",
       "      <td>100.340858</td>\n",
       "      <td>37.168305</td>\n",
       "      <td>0.0</td>\n",
       "      <td>20</td>\n",
       "      <td>0.0</td>\n",
       "      <td>0.0</td>\n",
       "      <td>1.0</td>\n",
       "      <td>0.0</td>\n",
       "    </tr>\n",
       "  </tbody>\n",
       "</table>\n",
       "</div>"
      ],
      "text/plain": [
       "   machineID        volt      rotate    pressure  vibration  failure  age  \\\n",
       "0        761  179.740325  494.155334  115.532464  42.616557      0.0   20   \n",
       "1         99  151.836927  565.253393  123.897350  46.448609      0.0   14   \n",
       "2        165  190.628262  443.676702   99.128140  39.562085      0.0   19   \n",
       "3        708  181.347802  470.302929  101.582462  42.303743      0.0    7   \n",
       "4        888  166.905430  470.097708  100.340858  37.168305      0.0   20   \n",
       "\n",
       "     0    1    2    3  \n",
       "0  0.0  0.0  1.0  0.0  \n",
       "1  0.0  1.0  0.0  0.0  \n",
       "2  0.0  0.0  0.0  1.0  \n",
       "3  0.0  0.0  0.0  1.0  \n",
       "4  0.0  0.0  1.0  0.0  "
      ]
     },
     "execution_count": 30,
     "metadata": {},
     "output_type": "execute_result"
    }
   ],
   "source": [
    "x_test.head()"
   ]
  },
  {
   "cell_type": "markdown",
   "metadata": {},
   "source": [
    "#### Generating labels for training\n"
   ]
  },
  {
   "cell_type": "code",
   "execution_count": 31,
   "metadata": {},
   "outputs": [],
   "source": [
    "\n",
    "y_train = x_train['failure']\n",
    "y_test = x_test['failure']\n"
   ]
  },
  {
   "cell_type": "code",
   "execution_count": 34,
   "metadata": {},
   "outputs": [
    {
     "data": {
      "text/plain": [
       "0    0.0\n",
       "1    0.0\n",
       "2    0.0\n",
       "3    0.0\n",
       "4    0.0\n",
       "Name: failure, dtype: float64"
      ]
     },
     "execution_count": 34,
     "metadata": {},
     "output_type": "execute_result"
    }
   ],
   "source": [
    "y_train.head()"
   ]
  },
  {
   "cell_type": "code",
   "execution_count": 35,
   "metadata": {},
   "outputs": [],
   "source": [
    "x_train.drop(columns=['machineID','failure'],inplace=True)\n",
    "x_test.drop(columns=['machineID','failure'],inplace=True)"
   ]
  },
  {
   "cell_type": "code",
   "execution_count": 36,
   "metadata": {},
   "outputs": [
    {
     "data": {
      "text/html": [
       "<div>\n",
       "<style scoped>\n",
       "    .dataframe tbody tr th:only-of-type {\n",
       "        vertical-align: middle;\n",
       "    }\n",
       "\n",
       "    .dataframe tbody tr th {\n",
       "        vertical-align: top;\n",
       "    }\n",
       "\n",
       "    .dataframe thead th {\n",
       "        text-align: right;\n",
       "    }\n",
       "</style>\n",
       "<table border=\"1\" class=\"dataframe\">\n",
       "  <thead>\n",
       "    <tr style=\"text-align: right;\">\n",
       "      <th></th>\n",
       "      <th>volt</th>\n",
       "      <th>rotate</th>\n",
       "      <th>pressure</th>\n",
       "      <th>vibration</th>\n",
       "      <th>age</th>\n",
       "      <th>0</th>\n",
       "      <th>1</th>\n",
       "      <th>2</th>\n",
       "      <th>3</th>\n",
       "    </tr>\n",
       "  </thead>\n",
       "  <tbody>\n",
       "    <tr>\n",
       "      <th>0</th>\n",
       "      <td>180.727156</td>\n",
       "      <td>394.928535</td>\n",
       "      <td>108.986320</td>\n",
       "      <td>39.098950</td>\n",
       "      <td>4</td>\n",
       "      <td>1.0</td>\n",
       "      <td>0.0</td>\n",
       "      <td>0.0</td>\n",
       "      <td>0.0</td>\n",
       "    </tr>\n",
       "    <tr>\n",
       "      <th>1</th>\n",
       "      <td>155.150840</td>\n",
       "      <td>422.120804</td>\n",
       "      <td>94.790002</td>\n",
       "      <td>49.637434</td>\n",
       "      <td>9</td>\n",
       "      <td>0.0</td>\n",
       "      <td>0.0</td>\n",
       "      <td>1.0</td>\n",
       "      <td>0.0</td>\n",
       "    </tr>\n",
       "    <tr>\n",
       "      <th>2</th>\n",
       "      <td>175.672546</td>\n",
       "      <td>435.277850</td>\n",
       "      <td>92.399260</td>\n",
       "      <td>41.230263</td>\n",
       "      <td>6</td>\n",
       "      <td>0.0</td>\n",
       "      <td>0.0</td>\n",
       "      <td>1.0</td>\n",
       "      <td>0.0</td>\n",
       "    </tr>\n",
       "    <tr>\n",
       "      <th>3</th>\n",
       "      <td>178.726020</td>\n",
       "      <td>375.535064</td>\n",
       "      <td>91.367185</td>\n",
       "      <td>45.580307</td>\n",
       "      <td>9</td>\n",
       "      <td>0.0</td>\n",
       "      <td>0.0</td>\n",
       "      <td>0.0</td>\n",
       "      <td>1.0</td>\n",
       "    </tr>\n",
       "    <tr>\n",
       "      <th>4</th>\n",
       "      <td>161.486360</td>\n",
       "      <td>439.087827</td>\n",
       "      <td>87.927400</td>\n",
       "      <td>39.288666</td>\n",
       "      <td>13</td>\n",
       "      <td>0.0</td>\n",
       "      <td>1.0</td>\n",
       "      <td>0.0</td>\n",
       "      <td>0.0</td>\n",
       "    </tr>\n",
       "  </tbody>\n",
       "</table>\n",
       "</div>"
      ],
      "text/plain": [
       "         volt      rotate    pressure  vibration  age    0    1    2    3\n",
       "0  180.727156  394.928535  108.986320  39.098950    4  1.0  0.0  0.0  0.0\n",
       "1  155.150840  422.120804   94.790002  49.637434    9  0.0  0.0  1.0  0.0\n",
       "2  175.672546  435.277850   92.399260  41.230263    6  0.0  0.0  1.0  0.0\n",
       "3  178.726020  375.535064   91.367185  45.580307    9  0.0  0.0  0.0  1.0\n",
       "4  161.486360  439.087827   87.927400  39.288666   13  0.0  1.0  0.0  0.0"
      ]
     },
     "execution_count": 36,
     "metadata": {},
     "output_type": "execute_result"
    }
   ],
   "source": [
    "x_train.head()"
   ]
  },
  {
   "cell_type": "code",
   "execution_count": 37,
   "metadata": {},
   "outputs": [
    {
     "data": {
      "text/html": [
       "<div>\n",
       "<style scoped>\n",
       "    .dataframe tbody tr th:only-of-type {\n",
       "        vertical-align: middle;\n",
       "    }\n",
       "\n",
       "    .dataframe tbody tr th {\n",
       "        vertical-align: top;\n",
       "    }\n",
       "\n",
       "    .dataframe thead th {\n",
       "        text-align: right;\n",
       "    }\n",
       "</style>\n",
       "<table border=\"1\" class=\"dataframe\">\n",
       "  <thead>\n",
       "    <tr style=\"text-align: right;\">\n",
       "      <th></th>\n",
       "      <th>volt</th>\n",
       "      <th>rotate</th>\n",
       "      <th>pressure</th>\n",
       "      <th>vibration</th>\n",
       "      <th>age</th>\n",
       "      <th>0</th>\n",
       "      <th>1</th>\n",
       "      <th>2</th>\n",
       "      <th>3</th>\n",
       "    </tr>\n",
       "  </thead>\n",
       "  <tbody>\n",
       "    <tr>\n",
       "      <th>0</th>\n",
       "      <td>179.740325</td>\n",
       "      <td>494.155334</td>\n",
       "      <td>115.532464</td>\n",
       "      <td>42.616557</td>\n",
       "      <td>20</td>\n",
       "      <td>0.0</td>\n",
       "      <td>0.0</td>\n",
       "      <td>1.0</td>\n",
       "      <td>0.0</td>\n",
       "    </tr>\n",
       "    <tr>\n",
       "      <th>1</th>\n",
       "      <td>151.836927</td>\n",
       "      <td>565.253393</td>\n",
       "      <td>123.897350</td>\n",
       "      <td>46.448609</td>\n",
       "      <td>14</td>\n",
       "      <td>0.0</td>\n",
       "      <td>1.0</td>\n",
       "      <td>0.0</td>\n",
       "      <td>0.0</td>\n",
       "    </tr>\n",
       "    <tr>\n",
       "      <th>2</th>\n",
       "      <td>190.628262</td>\n",
       "      <td>443.676702</td>\n",
       "      <td>99.128140</td>\n",
       "      <td>39.562085</td>\n",
       "      <td>19</td>\n",
       "      <td>0.0</td>\n",
       "      <td>0.0</td>\n",
       "      <td>0.0</td>\n",
       "      <td>1.0</td>\n",
       "    </tr>\n",
       "    <tr>\n",
       "      <th>3</th>\n",
       "      <td>181.347802</td>\n",
       "      <td>470.302929</td>\n",
       "      <td>101.582462</td>\n",
       "      <td>42.303743</td>\n",
       "      <td>7</td>\n",
       "      <td>0.0</td>\n",
       "      <td>0.0</td>\n",
       "      <td>0.0</td>\n",
       "      <td>1.0</td>\n",
       "    </tr>\n",
       "    <tr>\n",
       "      <th>4</th>\n",
       "      <td>166.905430</td>\n",
       "      <td>470.097708</td>\n",
       "      <td>100.340858</td>\n",
       "      <td>37.168305</td>\n",
       "      <td>20</td>\n",
       "      <td>0.0</td>\n",
       "      <td>0.0</td>\n",
       "      <td>1.0</td>\n",
       "      <td>0.0</td>\n",
       "    </tr>\n",
       "  </tbody>\n",
       "</table>\n",
       "</div>"
      ],
      "text/plain": [
       "         volt      rotate    pressure  vibration  age    0    1    2    3\n",
       "0  179.740325  494.155334  115.532464  42.616557   20  0.0  0.0  1.0  0.0\n",
       "1  151.836927  565.253393  123.897350  46.448609   14  0.0  1.0  0.0  0.0\n",
       "2  190.628262  443.676702   99.128140  39.562085   19  0.0  0.0  0.0  1.0\n",
       "3  181.347802  470.302929  101.582462  42.303743    7  0.0  0.0  0.0  1.0\n",
       "4  166.905430  470.097708  100.340858  37.168305   20  0.0  0.0  1.0  0.0"
      ]
     },
     "execution_count": 37,
     "metadata": {},
     "output_type": "execute_result"
    }
   ],
   "source": [
    "x_test.head()"
   ]
  },
  {
   "cell_type": "markdown",
   "metadata": {},
   "source": [
    "## Models"
   ]
  },
  {
   "cell_type": "markdown",
   "metadata": {},
   "source": [
    "### 1. Logisitc regression with weighted class due to class imbalance\n"
   ]
  },
  {
   "cell_type": "code",
   "execution_count": null,
   "metadata": {},
   "outputs": [],
   "source": [
    "from sklearn.linear_model import LogisticRegression\n",
    "\n",
    "w = {0:1, 1:99}\n",
    "logreg = LogisticRegression(class_weight=w)\n",
    "logreg.fit(df_train, y_train)"
   ]
  },
  {
   "cell_type": "code",
   "execution_count": null,
   "metadata": {},
   "outputs": [],
   "source": [
    "from sklearn.metrics import accuracy_score\n",
    "round(accuracy_score(y_test, logreg.predict(df_test))*100,2)"
   ]
  },
  {
   "cell_type": "markdown",
   "metadata": {},
   "source": [
    "#### The accuracy is 99.15, But we know this is skewed then accuracy metric wouldnt show the true performane. Considering failures important I would take recall as metric to compare model performances over accuracy\n"
   ]
  },
  {
   "cell_type": "code",
   "execution_count": null,
   "metadata": {},
   "outputs": [],
   "source": [
    "from sklearn.metrics import confusion_matrix\n",
    "tn, fp, fn, tp = confusion_matrix(y_test, logreg.predict(df_test)).ravel()"
   ]
  },
  {
   "cell_type": "markdown",
   "metadata": {},
   "source": [
    "#### Positive class is when machine is unhealthy and negative class is when machine is healthy\n",
    "#### tp is true positive and fp is falase positive \n",
    "#### tn is true negative and fn is false negative"
   ]
  },
  {
   "cell_type": "code",
   "execution_count": null,
   "metadata": {},
   "outputs": [],
   "source": [
    "tn, fp, fn, tp"
   ]
  },
  {
   "cell_type": "markdown",
   "metadata": {},
   "source": [
    "#### (1735880, 7292, 7558, 71)"
   ]
  },
  {
   "cell_type": "code",
   "execution_count": null,
   "metadata": {},
   "outputs": [],
   "source": [
    "recall=tp/(tp+fn)"
   ]
  },
  {
   "cell_type": "markdown",
   "metadata": {},
   "source": [
    "#### 0.009306593262550794\n"
   ]
  },
  {
   "cell_type": "markdown",
   "metadata": {},
   "source": [
    "### 2. Boosting"
   ]
  },
  {
   "cell_type": "markdown",
   "metadata": {},
   "source": [
    "#### Naive boosting is used as it inherently tries to handle some class imbalance"
   ]
  },
  {
   "cell_type": "code",
   "execution_count": null,
   "metadata": {},
   "outputs": [],
   "source": [
    "from xgboost import XGBClassifier\n",
    "xgb = XGBClassifier()\n",
    "xgb.fit(x_train,y_train)"
   ]
  },
  {
   "cell_type": "code",
   "execution_count": null,
   "metadata": {},
   "outputs": [],
   "source": [
    "tn, fp, fn, tp = confusion_matrix(y_test, xgb.predict(x_test)).ravel()"
   ]
  },
  {
   "cell_type": "markdown",
   "metadata": {},
   "source": []
  },
  {
   "cell_type": "code",
   "execution_count": null,
   "metadata": {},
   "outputs": [],
   "source": [
    "tn, fp, fn, tp"
   ]
  },
  {
   "cell_type": "markdown",
   "metadata": {},
   "source": [
    "#### (1743172, 0, 7629, 0)\n"
   ]
  },
  {
   "cell_type": "markdown",
   "metadata": {},
   "source": [
    "#### The poor performance shows naive boosting is unable to handle this class imbalance"
   ]
  },
  {
   "cell_type": "markdown",
   "metadata": {},
   "source": [
    "### 3. Undersampling"
   ]
  },
  {
   "cell_type": "markdown",
   "metadata": {},
   "source": [
    "\n",
    "#### Taking approach of under sampling the dataset. Undersampling is done on the healthy dataset with the unhealthy cases remaining the same"
   ]
  },
  {
   "cell_type": "code",
   "execution_count": 39,
   "metadata": {},
   "outputs": [],
   "source": [
    "df_healthy_subset = df_healthy.sample(n=38200)\n",
    "df_healthy_subset.reset_index(drop=True,inplace=True)"
   ]
  },
  {
   "cell_type": "code",
   "execution_count": 40,
   "metadata": {},
   "outputs": [],
   "source": [
    "\n",
    "x_train_healthy_subset,x_test_healthy_subset = train_test_split(df_healthy_subset,test_size = 0.2)\n",
    "x_train_unhealthy_subset,x_test_unhealthy_subset = train_test_split(df_unhealthy,test_size = 0.2) "
   ]
  },
  {
   "cell_type": "code",
   "execution_count": 41,
   "metadata": {},
   "outputs": [],
   "source": [
    "x_train_healthy_subset.reset_index(drop=True,inplace=True)\n",
    "x_test_healthy_subset.reset_index(drop=True,inplace=True)\n",
    "\n",
    "x_train_unhealthy_subset.reset_index(drop=True,inplace=True)\n",
    "x_test_unhealthy_subset.reset_index(drop=True,inplace=True)"
   ]
  },
  {
   "cell_type": "code",
   "execution_count": 42,
   "metadata": {},
   "outputs": [],
   "source": [
    "x_train_subset=pd.concat([x_train_healthy_subset,x_train_unhealthy_subset])\n",
    "x_test_subset=pd.concat([x_test_healthy_subset,x_test_unhealthy_subset])"
   ]
  },
  {
   "cell_type": "code",
   "execution_count": 43,
   "metadata": {},
   "outputs": [],
   "source": [
    "x_train_subset.reset_index(drop=True,inplace=True)"
   ]
  },
  {
   "cell_type": "code",
   "execution_count": 44,
   "metadata": {},
   "outputs": [
    {
     "data": {
      "text/html": [
       "<div>\n",
       "<style scoped>\n",
       "    .dataframe tbody tr th:only-of-type {\n",
       "        vertical-align: middle;\n",
       "    }\n",
       "\n",
       "    .dataframe tbody tr th {\n",
       "        vertical-align: top;\n",
       "    }\n",
       "\n",
       "    .dataframe thead th {\n",
       "        text-align: right;\n",
       "    }\n",
       "</style>\n",
       "<table border=\"1\" class=\"dataframe\">\n",
       "  <thead>\n",
       "    <tr style=\"text-align: right;\">\n",
       "      <th></th>\n",
       "      <th>machineID</th>\n",
       "      <th>volt</th>\n",
       "      <th>rotate</th>\n",
       "      <th>pressure</th>\n",
       "      <th>vibration</th>\n",
       "      <th>failure</th>\n",
       "      <th>age</th>\n",
       "      <th>0</th>\n",
       "      <th>1</th>\n",
       "      <th>2</th>\n",
       "      <th>3</th>\n",
       "    </tr>\n",
       "  </thead>\n",
       "  <tbody>\n",
       "    <tr>\n",
       "      <th>0</th>\n",
       "      <td>641</td>\n",
       "      <td>169.595355</td>\n",
       "      <td>390.977679</td>\n",
       "      <td>85.371493</td>\n",
       "      <td>29.807633</td>\n",
       "      <td>0.0</td>\n",
       "      <td>9</td>\n",
       "      <td>0.0</td>\n",
       "      <td>0.0</td>\n",
       "      <td>1.0</td>\n",
       "      <td>0.0</td>\n",
       "    </tr>\n",
       "    <tr>\n",
       "      <th>1</th>\n",
       "      <td>136</td>\n",
       "      <td>164.697133</td>\n",
       "      <td>474.355445</td>\n",
       "      <td>97.384681</td>\n",
       "      <td>33.436772</td>\n",
       "      <td>0.0</td>\n",
       "      <td>11</td>\n",
       "      <td>0.0</td>\n",
       "      <td>0.0</td>\n",
       "      <td>1.0</td>\n",
       "      <td>0.0</td>\n",
       "    </tr>\n",
       "    <tr>\n",
       "      <th>2</th>\n",
       "      <td>259</td>\n",
       "      <td>157.257257</td>\n",
       "      <td>373.314575</td>\n",
       "      <td>88.869766</td>\n",
       "      <td>36.075001</td>\n",
       "      <td>0.0</td>\n",
       "      <td>8</td>\n",
       "      <td>0.0</td>\n",
       "      <td>0.0</td>\n",
       "      <td>1.0</td>\n",
       "      <td>0.0</td>\n",
       "    </tr>\n",
       "    <tr>\n",
       "      <th>3</th>\n",
       "      <td>617</td>\n",
       "      <td>151.041388</td>\n",
       "      <td>383.234352</td>\n",
       "      <td>83.516180</td>\n",
       "      <td>43.393044</td>\n",
       "      <td>0.0</td>\n",
       "      <td>14</td>\n",
       "      <td>0.0</td>\n",
       "      <td>1.0</td>\n",
       "      <td>0.0</td>\n",
       "      <td>0.0</td>\n",
       "    </tr>\n",
       "    <tr>\n",
       "      <th>4</th>\n",
       "      <td>632</td>\n",
       "      <td>156.841043</td>\n",
       "      <td>507.804172</td>\n",
       "      <td>99.083632</td>\n",
       "      <td>32.417093</td>\n",
       "      <td>0.0</td>\n",
       "      <td>8</td>\n",
       "      <td>0.0</td>\n",
       "      <td>1.0</td>\n",
       "      <td>0.0</td>\n",
       "      <td>0.0</td>\n",
       "    </tr>\n",
       "  </tbody>\n",
       "</table>\n",
       "</div>"
      ],
      "text/plain": [
       "   machineID        volt      rotate   pressure  vibration  failure  age    0  \\\n",
       "0        641  169.595355  390.977679  85.371493  29.807633      0.0    9  0.0   \n",
       "1        136  164.697133  474.355445  97.384681  33.436772      0.0   11  0.0   \n",
       "2        259  157.257257  373.314575  88.869766  36.075001      0.0    8  0.0   \n",
       "3        617  151.041388  383.234352  83.516180  43.393044      0.0   14  0.0   \n",
       "4        632  156.841043  507.804172  99.083632  32.417093      0.0    8  0.0   \n",
       "\n",
       "     1    2    3  \n",
       "0  0.0  1.0  0.0  \n",
       "1  0.0  1.0  0.0  \n",
       "2  0.0  1.0  0.0  \n",
       "3  1.0  0.0  0.0  \n",
       "4  1.0  0.0  0.0  "
      ]
     },
     "execution_count": 44,
     "metadata": {},
     "output_type": "execute_result"
    }
   ],
   "source": [
    "x_train_subset.head()"
   ]
  },
  {
   "cell_type": "code",
   "execution_count": 45,
   "metadata": {},
   "outputs": [
    {
     "data": {
      "text/plain": [
       "(61075, 11)"
      ]
     },
     "execution_count": 45,
     "metadata": {},
     "output_type": "execute_result"
    }
   ],
   "source": [
    "x_train_subset.shape"
   ]
  },
  {
   "cell_type": "code",
   "execution_count": 47,
   "metadata": {},
   "outputs": [
    {
     "data": {
      "text/html": [
       "<div>\n",
       "<style scoped>\n",
       "    .dataframe tbody tr th:only-of-type {\n",
       "        vertical-align: middle;\n",
       "    }\n",
       "\n",
       "    .dataframe tbody tr th {\n",
       "        vertical-align: top;\n",
       "    }\n",
       "\n",
       "    .dataframe thead th {\n",
       "        text-align: right;\n",
       "    }\n",
       "</style>\n",
       "<table border=\"1\" class=\"dataframe\">\n",
       "  <thead>\n",
       "    <tr style=\"text-align: right;\">\n",
       "      <th></th>\n",
       "      <th>machineID</th>\n",
       "      <th>volt</th>\n",
       "      <th>rotate</th>\n",
       "      <th>pressure</th>\n",
       "      <th>vibration</th>\n",
       "      <th>failure</th>\n",
       "      <th>age</th>\n",
       "      <th>0</th>\n",
       "      <th>1</th>\n",
       "      <th>2</th>\n",
       "      <th>3</th>\n",
       "    </tr>\n",
       "  </thead>\n",
       "  <tbody>\n",
       "    <tr>\n",
       "      <th>0</th>\n",
       "      <td>764</td>\n",
       "      <td>143.906335</td>\n",
       "      <td>468.233509</td>\n",
       "      <td>99.866817</td>\n",
       "      <td>37.608680</td>\n",
       "      <td>0.0</td>\n",
       "      <td>8</td>\n",
       "      <td>0.0</td>\n",
       "      <td>0.0</td>\n",
       "      <td>1.0</td>\n",
       "      <td>0.0</td>\n",
       "    </tr>\n",
       "    <tr>\n",
       "      <th>1</th>\n",
       "      <td>66</td>\n",
       "      <td>206.872265</td>\n",
       "      <td>448.289144</td>\n",
       "      <td>103.426319</td>\n",
       "      <td>31.780175</td>\n",
       "      <td>0.0</td>\n",
       "      <td>6</td>\n",
       "      <td>0.0</td>\n",
       "      <td>1.0</td>\n",
       "      <td>0.0</td>\n",
       "      <td>0.0</td>\n",
       "    </tr>\n",
       "    <tr>\n",
       "      <th>2</th>\n",
       "      <td>181</td>\n",
       "      <td>137.393744</td>\n",
       "      <td>466.236396</td>\n",
       "      <td>98.539343</td>\n",
       "      <td>42.328205</td>\n",
       "      <td>0.0</td>\n",
       "      <td>10</td>\n",
       "      <td>0.0</td>\n",
       "      <td>0.0</td>\n",
       "      <td>0.0</td>\n",
       "      <td>1.0</td>\n",
       "    </tr>\n",
       "    <tr>\n",
       "      <th>3</th>\n",
       "      <td>2</td>\n",
       "      <td>167.244461</td>\n",
       "      <td>479.334619</td>\n",
       "      <td>83.126963</td>\n",
       "      <td>34.307092</td>\n",
       "      <td>0.0</td>\n",
       "      <td>7</td>\n",
       "      <td>0.0</td>\n",
       "      <td>0.0</td>\n",
       "      <td>0.0</td>\n",
       "      <td>1.0</td>\n",
       "    </tr>\n",
       "    <tr>\n",
       "      <th>4</th>\n",
       "      <td>40</td>\n",
       "      <td>179.347966</td>\n",
       "      <td>386.500977</td>\n",
       "      <td>95.603090</td>\n",
       "      <td>32.770006</td>\n",
       "      <td>0.0</td>\n",
       "      <td>4</td>\n",
       "      <td>0.0</td>\n",
       "      <td>0.0</td>\n",
       "      <td>1.0</td>\n",
       "      <td>0.0</td>\n",
       "    </tr>\n",
       "  </tbody>\n",
       "</table>\n",
       "</div>"
      ],
      "text/plain": [
       "   machineID        volt      rotate    pressure  vibration  failure  age  \\\n",
       "0        764  143.906335  468.233509   99.866817  37.608680      0.0    8   \n",
       "1         66  206.872265  448.289144  103.426319  31.780175      0.0    6   \n",
       "2        181  137.393744  466.236396   98.539343  42.328205      0.0   10   \n",
       "3          2  167.244461  479.334619   83.126963  34.307092      0.0    7   \n",
       "4         40  179.347966  386.500977   95.603090  32.770006      0.0    4   \n",
       "\n",
       "     0    1    2    3  \n",
       "0  0.0  0.0  1.0  0.0  \n",
       "1  0.0  1.0  0.0  0.0  \n",
       "2  0.0  0.0  0.0  1.0  \n",
       "3  0.0  0.0  0.0  1.0  \n",
       "4  0.0  0.0  1.0  0.0  "
      ]
     },
     "execution_count": 47,
     "metadata": {},
     "output_type": "execute_result"
    }
   ],
   "source": [
    "x_test_subset.reset_index(drop=True,inplace=True)\n",
    "x_test_subset.head()"
   ]
  },
  {
   "cell_type": "code",
   "execution_count": 49,
   "metadata": {},
   "outputs": [
    {
     "data": {
      "text/plain": [
       "(15269, 11)"
      ]
     },
     "execution_count": 49,
     "metadata": {},
     "output_type": "execute_result"
    }
   ],
   "source": [
    "x_test_subset.shape"
   ]
  },
  {
   "cell_type": "code",
   "execution_count": null,
   "metadata": {},
   "outputs": [],
   "source": []
  },
  {
   "cell_type": "code",
   "execution_count": 50,
   "metadata": {},
   "outputs": [],
   "source": [
    "y_train_subset=x_train_subset['failure']\n",
    "y_test_subset=x_test_subset['failure']\n"
   ]
  },
  {
   "cell_type": "code",
   "execution_count": 51,
   "metadata": {},
   "outputs": [],
   "source": [
    "x_test_subset.drop(columns=['machineID','failure'],inplace=True)\n",
    "x_train_subset.drop(columns=['machineID','failure'],inplace=True)"
   ]
  },
  {
   "cell_type": "markdown",
   "metadata": {},
   "source": [
    "#### 3.1 Naive Logistic Regression\n"
   ]
  },
  {
   "cell_type": "code",
   "execution_count": null,
   "metadata": {},
   "outputs": [],
   "source": [
    "\n",
    "\n",
    "logreg = LogisticRegression()\n",
    "logreg.fit(x_train_subset, y_train_subset)"
   ]
  },
  {
   "cell_type": "code",
   "execution_count": null,
   "metadata": {},
   "outputs": [],
   "source": [
    "tn, fp, fn, tp = confusion_matrix(y_test_subset, logreg.predict(x_test_subset)).ravel()"
   ]
  },
  {
   "cell_type": "code",
   "execution_count": null,
   "metadata": {},
   "outputs": [],
   "source": [
    "tn, fp, fn, tp"
   ]
  },
  {
   "cell_type": "markdown",
   "metadata": {},
   "source": [
    "#### (4430, 3210, 3358, 4271)"
   ]
  },
  {
   "cell_type": "code",
   "execution_count": null,
   "metadata": {},
   "outputs": [],
   "source": [
    "recall = tp/(tp+fn)"
   ]
  },
  {
   "cell_type": "markdown",
   "metadata": {},
   "source": [
    "#### 0.5598374623148512"
   ]
  },
  {
   "cell_type": "markdown",
   "metadata": {},
   "source": [
    "#### confusion matrix"
   ]
  },
  {
   "cell_type": "code",
   "execution_count": null,
   "metadata": {},
   "outputs": [],
   "source": [
    "from sklearn.metrics import plot_confusion_matrix\n",
    "class_names=['healthy' ,'unhealthy']\n",
    "plot_confusion_matrix(logreg, x_test_subset, y_test_subset,normalize='true',cmap=plt.cm.Blues,display_labels=class_names)  "
   ]
  },
  {
   "attachments": {},
   "cell_type": "markdown",
   "metadata": {},
   "source": [
    "![cf_logreg](https://raw.githubusercontent.com/vanshilshah97/pred_maint_zf/main/images/cf_logreg.png)"
   ]
  },
  {
   "cell_type": "markdown",
   "metadata": {},
   "source": [
    "\n",
    "\n",
    "#### Positive coefficients increase the log-odds of the response (and thus increase the probability), and negative coefficients decrease the log-odds of the response (and thus decrease the probability)."
   ]
  },
  {
   "cell_type": "code",
   "execution_count": null,
   "metadata": {},
   "outputs": [],
   "source": [
    "\n",
    "coeff_df = pd.DataFrame(x_train.columns.delete(0))\n",
    "coeff_df.columns = ['Feature']\n",
    "coeff_df\n"
   ]
  },
  {
   "cell_type": "code",
   "execution_count": null,
   "metadata": {},
   "outputs": [],
   "source": [
    "\n",
    "coeff_df[\"Correlation\"] = pd.Series(logreg.coef_[0])\n",
    "\n",
    "coeff_df.sort_values(by='Correlation', ascending=False)"
   ]
  },
  {
   "attachments": {},
   "cell_type": "markdown",
   "metadata": {},
   "source": [
    "![corr](https://raw.githubusercontent.com/vanshilshah97/pred_maint_zf/main/images/ffeature_coeff_logreg.png)"
   ]
  },
  {
   "cell_type": "markdown",
   "metadata": {},
   "source": [
    "### 3.2 SVM"
   ]
  },
  {
   "cell_type": "code",
   "execution_count": null,
   "metadata": {},
   "outputs": [],
   "source": [
    "from sklearn.svm import SVC\n",
    "svc = SVC()\n",
    "svc.fit(x_train_subset, y_train_subset)\n",
    "y_pred = svc.predict(x_test_subset)"
   ]
  },
  {
   "cell_type": "code",
   "execution_count": null,
   "metadata": {},
   "outputs": [],
   "source": [
    "tn, fp, fn, tp = confusion_matrix(y_test_subset, y_pred).ravel()"
   ]
  },
  {
   "cell_type": "code",
   "execution_count": null,
   "metadata": {},
   "outputs": [],
   "source": [
    "tn, fp, fn, tp"
   ]
  },
  {
   "cell_type": "markdown",
   "metadata": {},
   "source": [
    "(3914, 3726, 3207, 4422)"
   ]
  },
  {
   "cell_type": "code",
   "execution_count": null,
   "metadata": {},
   "outputs": [],
   "source": [
    "recall = tp/(tp+fn)"
   ]
  },
  {
   "cell_type": "markdown",
   "metadata": {},
   "source": [
    "0.5796303578450649"
   ]
  },
  {
   "cell_type": "code",
   "execution_count": null,
   "metadata": {},
   "outputs": [],
   "source": [
    "plot_confusion_matrix(svc, x_test_subset, y_test_subset,normalize='true',cmap=plt.cm.Blues,display_labels=class_names)  "
   ]
  },
  {
   "attachments": {
    "image.png": {
     "image/png": "[encoded data removed]"
    }
   },
   "cell_type": "markdown",
   "metadata": {},
   "source": [
    "![image.png](attachment:image.png)"
   ]
  },
  {
   "cell_type": "markdown",
   "metadata": {},
   "source": [
    "### 3.3 Boosting"
   ]
  },
  {
   "cell_type": "code",
   "execution_count": null,
   "metadata": {},
   "outputs": [],
   "source": [
    "from xgboost import XGBClassifier\n",
    "xgb = XGBClassifier()\n",
    "xgb.fit(x_train_subset,y_train_subset)\n"
   ]
  },
  {
   "cell_type": "code",
   "execution_count": null,
   "metadata": {},
   "outputs": [],
   "source": [
    "tn, fp, fn, tp = confusion_matrix(y_test_subset, xgb.predict(x_test_subset)).ravel()\n"
   ]
  },
  {
   "cell_type": "code",
   "execution_count": null,
   "metadata": {},
   "outputs": [],
   "source": [
    "tn, fp, fn, tp"
   ]
  },
  {
   "cell_type": "markdown",
   "metadata": {},
   "source": [
    "(4390, 3250, 3356, 4273)\n"
   ]
  },
  {
   "cell_type": "code",
   "execution_count": null,
   "metadata": {},
   "outputs": [],
   "source": [
    "recall = tp/(tp+fn)"
   ]
  },
  {
   "cell_type": "markdown",
   "metadata": {},
   "source": [
    "0.5600996198715428"
   ]
  },
  {
   "cell_type": "code",
   "execution_count": null,
   "metadata": {},
   "outputs": [],
   "source": [
    "plot_confusion_matrix(xgb, x_test_subset, y_test_subset,normalize='true',cmap=plt.cm.Blues,display_labels=class_names)  "
   ]
  },
  {
   "attachments": {
    "image.png": {
     "image/png": "[encoded data removed]"
    }
   },
   "cell_type": "markdown",
   "metadata": {},
   "source": [
    "![image.png](attachment:image.png)"
   ]
  },
  {
   "cell_type": "markdown",
   "metadata": {},
   "source": [
    "### 3.4 Random Forest"
   ]
  },
  {
   "cell_type": "code",
   "execution_count": null,
   "metadata": {},
   "outputs": [],
   "source": [
    "from sklearn.ensemble import RandomForestClassifier\n",
    "random_forest = RandomForestClassifier(n_estimators=100)\n",
    "random_forest.fit(x_train_subset, y_train_subset)\n",
    "y_pred = random_forest.predict(x_test_subset)"
   ]
  },
  {
   "cell_type": "code",
   "execution_count": null,
   "metadata": {},
   "outputs": [],
   "source": [
    "tn, fp, fn, tp = confusion_matrix(y_test_subset, y_pred).ravel()"
   ]
  },
  {
   "cell_type": "markdown",
   "metadata": {},
   "source": [
    "#### (4347, 3293, 3559, 4070)\n"
   ]
  },
  {
   "cell_type": "code",
   "execution_count": null,
   "metadata": {},
   "outputs": [],
   "source": [
    "recall = tp/(tp+fn)"
   ]
  },
  {
   "cell_type": "markdown",
   "metadata": {},
   "source": [
    "#### 0.5334906278673482"
   ]
  },
  {
   "cell_type": "markdown",
   "metadata": {},
   "source": [
    "## Conclusion\n",
    "### From above analysis methods like boosting show promise they can be further fine tuned for achieving improved recall. But high imbalance in dataset is a major factor in sub-optimal performance, hence working on the lines of anomaly detection would yield better results"
   ]
  },
  {
   "cell_type": "markdown",
   "metadata": {},
   "source": [
    "## Futurework\n",
    "\n",
    "### Exploring how to leverage time series for deep learning techniques like LSTM. Further to enhance performance this could be posed as anomaly detection problem in a semi supervised setting/unsupervised"
   ]
  },
  {
   "cell_type": "code",
   "execution_count": null,
   "metadata": {},
   "outputs": [],
   "source": []
  }
 ],
 "metadata": {
  "kernelspec": {
   "display_name": "Python 3",
   "language": "python",
   "name": "python3"
  },
  "language_info": {
   "codemirror_mode": {
    "name": "ipython",
    "version": 3
   },
   "file_extension": ".py",
   "mimetype": "text/x-python",
   "name": "python",
   "nbconvert_exporter": "python",
   "pygments_lexer": "ipython3",
   "version": "3.5.2"
  }
 },
 "nbformat": 4,
 "nbformat_minor": 4
}
